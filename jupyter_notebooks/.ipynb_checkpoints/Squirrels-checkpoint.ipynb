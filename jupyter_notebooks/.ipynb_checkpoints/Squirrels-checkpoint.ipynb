{
 "cells": [
  {
   "cell_type": "code",
   "execution_count": 1,
   "id": "37e21bdf-8600-4294-9244-ef7d38a81425",
   "metadata": {},
   "outputs": [],
   "source": [
    "import pandas as pd"
   ]
  },
  {
   "cell_type": "code",
   "execution_count": 2,
   "id": "2c6d08b6-f5a9-433b-87c5-2eb4fbda64d4",
   "metadata": {},
   "outputs": [],
   "source": [
    "data = pd.read_csv(\"squirrels.csv\")"
   ]
  },
  {
   "cell_type": "code",
   "execution_count": 3,
   "id": "89a73c20-45a0-4368-8c62-780a37b2db38",
   "metadata": {},
   "outputs": [
    {
     "data": {
      "text/plain": [
       "Index(['X', 'Y', 'Unique Squirrel ID', 'Hectare', 'Shift', 'Date',\n",
       "       'Hectare Squirrel Number', 'Age', 'Primary Fur Color',\n",
       "       'Highlight Fur Color', 'Combination of Primary and Highlight Color',\n",
       "       'Color notes', 'Location', 'Above Ground Sighter Measurement',\n",
       "       'Specific Location', 'Running', 'Chasing', 'Climbing', 'Eating',\n",
       "       'Foraging', 'Other Activities', 'Kuks', 'Quaas', 'Moans', 'Tail flags',\n",
       "       'Tail twitches', 'Approaches', 'Indifferent', 'Runs from',\n",
       "       'Other Interactions', 'Lat/Long'],\n",
       "      dtype='object')"
      ]
     },
     "execution_count": 3,
     "metadata": {},
     "output_type": "execute_result"
    }
   ],
   "source": [
    "data.columns"
   ]
  },
  {
   "cell_type": "code",
   "execution_count": 4,
   "id": "6c806c83-edca-4d05-b1f0-1f0844726bc0",
   "metadata": {},
   "outputs": [
    {
     "data": {
      "text/plain": [
       "0            NaN\n",
       "1            NaN\n",
       "2           Gray\n",
       "3           Gray\n",
       "4           Gray\n",
       "          ...   \n",
       "3018        Gray\n",
       "3019        Gray\n",
       "3020        Gray\n",
       "3021        Gray\n",
       "3022    Cinnamon\n",
       "Name: Primary Fur Color, Length: 3023, dtype: object"
      ]
     },
     "execution_count": 4,
     "metadata": {},
     "output_type": "execute_result"
    }
   ],
   "source": [
    "data[\"Primary Fur Color\"]"
   ]
  },
  {
   "cell_type": "code",
   "execution_count": 5,
   "id": "265f5831-f328-49b0-ab28-9976f6c79abb",
   "metadata": {},
   "outputs": [
    {
     "data": {
      "text/plain": [
       "0       False\n",
       "1       False\n",
       "2       False\n",
       "3       False\n",
       "4       False\n",
       "        ...  \n",
       "3018    False\n",
       "3019    False\n",
       "3020    False\n",
       "3021    False\n",
       "3022    False\n",
       "Name: Primary Fur Color, Length: 3023, dtype: bool"
      ]
     },
     "execution_count": 5,
     "metadata": {},
     "output_type": "execute_result"
    }
   ],
   "source": [
    "black_filter = data[\"Primary Fur Color\"] == \"Black\"\n",
    "black_filter"
   ]
  },
  {
   "cell_type": "code",
   "execution_count": 6,
   "id": "b4b9bb8d-0160-4b6d-9166-426f9bcc8fa7",
   "metadata": {},
   "outputs": [],
   "source": [
    "black_data = data.loc[black_filter]"
   ]
  },
  {
   "cell_type": "code",
   "execution_count": 7,
   "id": "4aa59bdc-fa27-4a8f-95b0-d0f4195e54f8",
   "metadata": {},
   "outputs": [
    {
     "data": {
      "text/plain": [
       "3193"
      ]
     },
     "execution_count": 7,
     "metadata": {},
     "output_type": "execute_result"
    }
   ],
   "source": [
    "black_data.size"
   ]
  },
  {
   "cell_type": "code",
   "execution_count": 8,
   "id": "7b03e846-9db7-4531-863b-eb61ce95de75",
   "metadata": {},
   "outputs": [],
   "source": [
    "black_data_row_count = len(black_data)"
   ]
  },
  {
   "cell_type": "code",
   "execution_count": 9,
   "id": "c97da1fd-1a76-4866-881b-108a528a71cc",
   "metadata": {},
   "outputs": [
    {
     "data": {
      "text/plain": [
       "103"
      ]
     },
     "execution_count": 9,
     "metadata": {},
     "output_type": "execute_result"
    }
   ],
   "source": [
    "black_data_row_count"
   ]
  },
  {
   "cell_type": "code",
   "execution_count": 10,
   "id": "6d4a606f-71e5-463c-a3a5-81f139df1888",
   "metadata": {},
   "outputs": [
    {
     "data": {
      "text/plain": [
       "103"
      ]
     },
     "execution_count": 10,
     "metadata": {},
     "output_type": "execute_result"
    }
   ],
   "source": [
    "black_data_row_count = data.loc[black_filter][\"Primary Fur Color\"].size\n",
    "black_data_row_count"
   ]
  },
  {
   "cell_type": "code",
   "execution_count": 11,
   "id": "9a7cec03-cde1-4654-b656-792139e7b755",
   "metadata": {},
   "outputs": [
    {
     "data": {
      "text/plain": [
       "12152"
      ]
     },
     "execution_count": 11,
     "metadata": {},
     "output_type": "execute_result"
    }
   ],
   "source": [
    "cinnamon_data_row_count = data.loc[data[\"Primary Fur Color\"] == \"Cinnamon\"].size\n",
    "cinnamon_data_row_count"
   ]
  },
  {
   "cell_type": "code",
   "execution_count": 12,
   "id": "8efecbb7-2c9c-4a76-9673-6503870eb061",
   "metadata": {},
   "outputs": [
    {
     "data": {
      "text/plain": [
       "76663"
      ]
     },
     "execution_count": 12,
     "metadata": {},
     "output_type": "execute_result"
    }
   ],
   "source": [
    "gray_data_row_count = data.loc[data[\"Primary Fur Color\"] == \"Gray\"].size\n",
    "gray_data_row_count"
   ]
  },
  {
   "cell_type": "code",
   "execution_count": 13,
   "id": "1368e014-913b-46db-8c77-5ec8aa2f2118",
   "metadata": {},
   "outputs": [],
   "source": [
    "final_dict = {\n",
    "    \"Red\": cinnamon_data_row_count,\n",
    "    \"Black\": black_data_row_count,\n",
    "    \"Gray\": gray_data_row_count,\n",
    "}"
   ]
  },
  {
   "cell_type": "code",
   "execution_count": 14,
   "id": "c598ebdf-001a-43df-81de-f6e45238e53e",
   "metadata": {},
   "outputs": [
    {
     "data": {
      "text/plain": [
       "{'Red': 12152, 'Black': 103, 'Gray': 76663}"
      ]
     },
     "execution_count": 14,
     "metadata": {},
     "output_type": "execute_result"
    }
   ],
   "source": [
    "final_dict"
   ]
  },
  {
   "cell_type": "code",
   "execution_count": 15,
   "id": "8a3ff27c-1b9f-4f3d-96b5-a63e8b5a130d",
   "metadata": {},
   "outputs": [],
   "source": [
    "csv = pd.DataFrame(final_dict, index=(0,))"
   ]
  },
  {
   "cell_type": "code",
   "execution_count": 16,
   "id": "1af483c6-fba3-4ae5-bc4b-b9fe1ed6cb4f",
   "metadata": {},
   "outputs": [
    {
     "data": {
      "text/html": [
       "<div>\n",
       "<style scoped>\n",
       "    .dataframe tbody tr th:only-of-type {\n",
       "        vertical-align: middle;\n",
       "    }\n",
       "\n",
       "    .dataframe tbody tr th {\n",
       "        vertical-align: top;\n",
       "    }\n",
       "\n",
       "    .dataframe thead th {\n",
       "        text-align: right;\n",
       "    }\n",
       "</style>\n",
       "<table border=\"1\" class=\"dataframe\">\n",
       "  <thead>\n",
       "    <tr style=\"text-align: right;\">\n",
       "      <th></th>\n",
       "      <th>Red</th>\n",
       "      <th>Black</th>\n",
       "      <th>Gray</th>\n",
       "    </tr>\n",
       "  </thead>\n",
       "  <tbody>\n",
       "    <tr>\n",
       "      <th>0</th>\n",
       "      <td>12152</td>\n",
       "      <td>103</td>\n",
       "      <td>76663</td>\n",
       "    </tr>\n",
       "  </tbody>\n",
       "</table>\n",
       "</div>"
      ],
      "text/plain": [
       "     Red  Black   Gray\n",
       "0  12152    103  76663"
      ]
     },
     "execution_count": 16,
     "metadata": {},
     "output_type": "execute_result"
    }
   ],
   "source": [
    "csv"
   ]
  },
  {
   "cell_type": "code",
   "execution_count": null,
   "id": "079e8e4e-a52b-4d59-825f-a4fa3eb615ed",
   "metadata": {},
   "outputs": [],
   "source": []
  }
 ],
 "metadata": {
  "kernelspec": {
   "display_name": "Python 3 (ipykernel)",
   "language": "python",
   "name": "python3"
  },
  "language_info": {
   "codemirror_mode": {
    "name": "ipython",
    "version": 3
   },
   "file_extension": ".py",
   "mimetype": "text/x-python",
   "name": "python",
   "nbconvert_exporter": "python",
   "pygments_lexer": "ipython3",
   "version": "3.13.5"
  }
 },
 "nbformat": 4,
 "nbformat_minor": 5
}
